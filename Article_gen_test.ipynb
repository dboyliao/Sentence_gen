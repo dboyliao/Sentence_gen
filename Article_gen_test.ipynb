{
 "metadata": {
  "name": "",
  "signature": "sha256:36a0327da6db2f0d2c2759914499a575d355d1522dccc5f99f7da9cebfcd5569"
 },
 "nbformat": 3,
 "nbformat_minor": 0,
 "worksheets": [
  {
   "cells": [
    {
     "cell_type": "code",
     "collapsed": false,
     "input": [
      "import sys\n",
      "import os\n",
      "import re\n",
      "import random\n",
      "\n",
      "PUNCTUATORS = [',', ':', '.', ';']"
     ],
     "language": "python",
     "metadata": {},
     "outputs": [],
     "prompt_number": 2
    },
    {
     "cell_type": "code",
     "collapsed": false,
     "input": [
      "path = os.getcwd()"
     ],
     "language": "python",
     "metadata": {},
     "outputs": [],
     "prompt_number": 3
    },
    {
     "cell_type": "code",
     "collapsed": false,
     "input": [
      "print path"
     ],
     "language": "python",
     "metadata": {},
     "outputs": [
      {
       "output_type": "stream",
       "stream": "stdout",
       "text": [
        "/home/dboyliao/Desktop\n"
       ]
      }
     ],
     "prompt_number": 4
    },
    {
     "cell_type": "code",
     "collapsed": false,
     "input": [
      "with open(\"./bad_romance.txt\", 'r') as sample_article:\n",
      "    words = re.findall(r\"[\\w|']+|[^\\s]\", sample_article.read())\n",
      "    \n",
      "    transition = {}\n",
      "    transition['^'] = [words[0]]\n",
      "    transition[words[-1]] = ['$']\n",
      "    for i in range(len(words) - 1):\n",
      "            if words[i] not in transition:\n",
      "                transition[words[i]] = []\n",
      "            transition[words[i]].append(words[i + 1])   "
     ],
     "language": "python",
     "metadata": {},
     "outputs": [],
     "prompt_number": 5
    },
    {
     "cell_type": "code",
     "collapsed": false,
     "input": [
      "print transition"
     ],
     "language": "python",
     "metadata": {},
     "outputs": [
      {
       "output_type": "stream",
       "stream": "stdout",
       "text": [
        "{'all': ['your', 'your'], \"don't\": ['wanna', 'wanna', 'wanna', 'wanna'], 'move': ['that', 'that', 'that'], 'touch': ['of'], 'psycho': [','], 'veux': ['ton'], 'romance': ['Oh', '.', '.', '.', '.', 'I', '.', 'Oh', '.', '.', '.', 'Oh', '.', '.', '.', 'I', 'Oh', 'Want', '.', 'I', '.', 'Oh', 'Want', 'Want', 'Oh', '.', '.'], 'la': [',', 'Want', 'la', 'Want', 'la', 'Want', 'la', 'Want', 'la', 'Want', 'la', 'Want'], ',': ['caught', 'caught', 'rah', 'ah', 'ah', 'ah', 'roma', 'ma', 'ooh', 'la', 'la', 'rah', 'ah', 'ah', 'ah', 'roma', 'ma', 'ooh', 'I', 'love', 'love', 'I', 'the', 'love', 'love', 'I', 'love', 'love', 'I', 'bad', 'and', 'and', 'caught', 'caught', 'rah', 'ah', 'ah', 'ah', 'roma', 'ma', 'ooh', 'I', 'love', 'love', 'I', 'your', 'baby', \"you're\", 'love', 'love', 'I', 'love', 'love', 'I', 'baby', 'bad', 'caught', 'caught', 'rah', 'ah', 'ah', 'ah', 'roma', 'ma', 'ooh', 'rah', 'ah', 'ah', 'ah', 'roma', 'ma', 'ooh', 'walk', 'fashion', 'baby', 'move', 'crazy', 'walk', 'fashion', 'baby', 'move', 'crazy', 'walk', 'fashion', 'baby', 'move', 'crazy', 'walk', 'passion', 'baby', \"I'm\", 'baby', 'and', 'I', 'I', 'I', 'caught', 'caught', 'and', 'and', 'caught', 'caught', 'rah', 'ah', 'ah', 'ah', 'roma', 'ma', 'ooh'], 'window': [','], 'studded': ['kiss'], 'criminal': ['as'], 'me': ['could', 'could', 'could', 'could'], 'Oh': [',', ',', ',', ',', ',', ',', ',', ',', ',', ','], 'horror': [','], 'know': ['that', 'that', 'that', 'that'], 'kiss': ['in'], 'Roma': [',', ',', ',', ',', ',', ','], 'ma': ['Gaga', 'Gaga', 'Gaga', 'Gaga', 'Gaga', 'Gaga'], \"I'm\": ['a', 'a'], 'rear': ['window'], 'leather': ['studded'], 'Rah': [',', ',', ',', ',', ',', ','], 'sand': ['I'], 'design': [\"'Cause\"], 'et': ['je'], 'bad': ['romance', 'romance', 'romance', 'romance', ',', 'romance', 'romance', 'romance', 'romance', 'romance', 'romance', ',', 'romance', 'romance', 'romance', 'romance', 'romance', 'romance', 'romance', 'romance', 'romance', 'romance', 'romance', 'romance', 'romance', 'romance', 'romance', 'romance', 'romance'], 'everything': ['as'], 'passion': [','], 'be': ['friends', 'friends', 'friends', 'friends'], 'vertical': ['stick'], 'Work': ['it', 'it', 'it', 'it'], 'revenge': ['You', 'You', 'I', \"J'ai\", 'You', 'You'], 'free': ['I'], 'je': ['veux'], 'of': ['your'], 'could': ['write', 'write', 'write', 'write'], 'drama': [','], 'thing': [',', ',', ','], \"'Cause\": [\"you're\", \"I'm\"], 'wanna': ['be', 'be', 'be', 'be'], 'love': ['Love', ',', ',', '.', 'Love', ',', ',', 'Love', ',', ',', '.', ',', ',', 'is', 'Love', ',', ',', '.', 'Love', ',', ',', 'Love', ',', ',', '.', ',', ',', ',', ',', 'is'], 'No': [','], 'walk': [',', ',', ',', ','], 'Gaga': [',', ',', ',', ',', ',', ','], 'your': ['bad', 'bad', 'ugly', 'disease', 'everything', 'love', 'love', 'drama', 'hand', 'leather', 'love', 'love', 'love', 'love', 'revenge', 'love', 'love', 'bad', 'horror', 'design', 'love', 'love', 'psycho', 'vertical', 'love', 'love', 'love', 'bad', 'bad', 'love', 'revenge', 'love', 'bad', 'bad', 'love', 'revenge', 'love', 'love', 'bad', 'bad', 'bad', 'bad'], \"you're\": ['a', 'mine', 'sick'], \"it's\": ['free'], 'caught': ['in', 'in', 'in', 'in', 'in', 'in', 'in', 'in', 'in', 'in'], 'long': ['as', 'as'], '.': ['$', 'Rah', 'Rah', 'I', 'I', 'You', 'I', 'Oh', 'Rah', 'I', 'I', 'You', 'Oh', 'Rah', 'Rah', 'Walk', 'Walk', 'I', 'No', 'Want', 'I', 'Want', 'Rah'], 'ton': ['amour', 'revenge', 'amour'], 'that': ['I', 'I', 'I', 'I', 'thing', 'thing', 'thing'], 'ooh': [',', 'la', 'la', 'la', 'la', 'la'], 'mine': ['I'], 'stick': ['Want'], 'baby': [',', 'I', 'Work', 'Work', 'Work', 'Work', '.'], '^': ['Oh'], 'And': ['you', 'you'], 'Love': [',', ',', ',', ',', ',', ','], 'Walk': [',', ',', ',', ','], 'ugly': [','], 'my': ['rear'], 'and': ['I', 'me', 'all', 'me', 'I', 'I', 'me', 'all', 'me'], 'crazy': ['Walk', '.', 'Walk'], 'fashion': [',', ',', ','], 'freak': [',', ','], 'ah': [',', ',', 'Roma', ',', ',', 'Roma', ',', ',', 'Roma', ',', ',', 'Roma', ',', ',', 'Roma', ',', ',', 'Roma'], 'is': ['revenge', 'revenge'], 'it': ['bad', 'bad', ',', ',', ',', ','], 'rah': [',', ',', ',', ',', ',', ','], 'as': ['long', \"it's\", 'long', \"you're\"], 'want': ['your', 'your', 'your', 'your', 'your', 'your', 'your', 'your', 'your', 'your', 'you', 'it', 'your', 'your', 'your', 'your', 'your', 'your', 'your', 'your', 'your', 'your', 'your', 'you', 'it', 'your', 'your', 'your', 'your', 'your', 'your'], 'in': ['a', 'a', 'the', 'a', 'a', 'my', 'a', 'a', 'a', 'a', 'a', 'a'], 'need': ['you', 'you'], 'amour': ['et', ','], 'You': ['know', 'and', 'and', 'know', 'and', 'and'], 'write': ['a', 'a', 'a', 'a'], \"J'ai\": ['ton', 'ton'], 'sick': ['I'], 'you': ['And', 'know', 'I', 'in', 'And', 'know', \"'Cause\"], 'I': ['want', 'want', 'want', 'want', 'want', 'want', 'want', 'want', 'want', 'want', 'want', 'need', 'want', 'want', 'want', 'want', 'want', 'want', 'want', 'want', 'want', 'want', 'want', 'want', 'want', 'need', 'want', 'want', 'want', 'want', \"don't\", \"don't\", \"don't\", \"don't\", 'want', 'want', 'want'], 'hand': ['I'], 'friends': [\"J'ai\", '.', 'Oh', '.'], 'a': ['bad', 'bad', 'bad', 'bad', 'bad', 'bad', 'criminal', 'freak', 'bad', 'bad', 'freak', 'bad', 'bad', 'bad', 'bad', 'bad', 'bad'], 'disease': ['I'], 'Want': ['your', 'your', 'your', 'you', 'your', 'your', 'your', 'your', 'your', 'your', 'your', 'your'], 'roma': [',', ',', ',', ',', ',', ','], 'the': ['touch', 'sand']}\n"
       ]
      }
     ],
     "prompt_number": 6
    },
    {
     "cell_type": "code",
     "collapsed": false,
     "input": [
      "result = ''\n",
      "word = '^'\n",
      "while True:\n",
      "    word = (transition[word][random.randint(0, len(transition[word]) - 1)])\n",
      "    if word is '$':\n",
      "        break\n",
      "    else:\n",
      "        result += word in PUNCTUATORS and word or ' ' + word"
     ],
     "language": "python",
     "metadata": {},
     "outputs": [],
     "prompt_number": 7
    },
    {
     "cell_type": "code",
     "collapsed": false,
     "input": [
      "print result"
     ],
     "language": "python",
     "metadata": {},
     "outputs": [
      {
       "output_type": "stream",
       "stream": "stdout",
       "text": [
        " Oh, caught in my rear window, ooh la Want your bad romance Oh, ah Roma, bad romance. Rah, fashion, caught in a bad romance. You know that I want you And you 'Cause I'm a bad romance Oh, love, caught in a bad romance Oh, walk, I want your psycho, caught in a bad romance I want your bad romance. Rah, caught in a bad romance Oh, rah, roma, ah, ma Gaga, ma Gaga, roma, ooh la la la la la, la la Want your bad romance. Walk, fashion, I want your hand I want your ugly, I want it, crazy Walk, rah, baby Work it, caught in a bad romance. Walk, baby Work it, I want your revenge You know that I want your bad romance Want your bad romance. Rah, I want you in my rear window, ah Roma, baby. Rah, fashion, crazy Walk, the sand I want your love, caught in a bad, love is revenge You and me could write a bad, caught in a bad, ah Roma, ooh la Want your love Love, love, ah, ooh, I need you know that I want your love, and me could write a bad romance. Rah, baby Work it bad romance. I want your bad romance. Walk, rah, ah, caught in a bad romance. Want your bad romance I want your love, ooh la la la Want your bad romance Oh, ah, ma Gaga, move that I want your bad romance. No, love, la Want your bad romance. Rah, ooh la la Want your revenge You and all your design 'Cause you're sick I don't wanna be friends. Want your everything as long as you're mine I want your love, ooh la la Want you in a bad romance Oh, bad romance I want your love, ooh la la Want your love Love, baby Work it, baby Work it, baby I don't wanna be friends Oh, la la la Want your bad romance. Want your love. Rah, and me could write a bad romance Want your bad romance. I want you And you know that I want your bad romance. You and me could write a bad, love, ma Gaga, love, walk, caught in a freak, ah Roma, ma Gaga, your love, and me could write a bad romance. I want your revenge You and I want your bad romance.\n"
       ]
      }
     ],
     "prompt_number": 8
    },
    {
     "cell_type": "code",
     "collapsed": false,
     "input": [],
     "language": "python",
     "metadata": {},
     "outputs": [],
     "prompt_number": 8
    },
    {
     "cell_type": "code",
     "collapsed": false,
     "input": [],
     "language": "python",
     "metadata": {},
     "outputs": []
    }
   ],
   "metadata": {}
  }
 ]
}